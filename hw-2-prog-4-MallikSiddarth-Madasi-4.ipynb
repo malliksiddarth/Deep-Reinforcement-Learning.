{
 "cells": [
  {
   "cell_type": "code",
   "execution_count": 1,
   "metadata": {},
   "outputs": [],
   "source": [
    "import numpy as np\n",
    "import pandas as pd"
   ]
  },
  {
   "cell_type": "code",
   "execution_count": 2,
   "metadata": {},
   "outputs": [],
   "source": [
    "class neural_network_layer:\n",
    "    def __init__(self, weight, bias, learning_rate=0.1):\n",
    "        self.learning_rate = learning_rate\n",
    "        self.weight = weight\n",
    "        self.bias = bias\n",
    "\n",
    "    def softmax(self, x):#softmax function\n",
    "        return np.exp(x)/np.sum(np.exp(x))\n",
    "    \n",
    "    def predict(self, x):#predict the outputs, forward propogation\n",
    "        z = np.dot(self.weight, x) + self.bias\n",
    "        return self.softmax(z)\n",
    "    \n",
    "    def loss(self, y_pred, class_lable):\n",
    "        return -np.log(y_pred[class_lable])\n",
    "    \n",
    "    def gradient_descent(self, y_pred, inputs, class_lable):\n",
    "        grad_w = inputs*(y_pred[class_lable]-1)\n",
    "        grad_b = y_pred[class_lable]-1\n",
    "        self.weight[class_lable] -= self.learning_rate*grad_w.ravel()\n",
    "        self.bias[class_lable] -= self.learning_rate*grad_b.ravel()\n",
    "        "
   ]
  },
  {
   "cell_type": "code",
   "execution_count": 3,
   "metadata": {},
   "outputs": [
    {
     "name": "stdout",
     "output_type": "stream",
     "text": [
      "(20,)\n",
      "(2000,)\n",
      "(100,)\n",
      "(100, 1)\n",
      "Prediction :  4\n",
      "Loss:  [2.03421586]\n",
      "Prediction Post Gradient Descent:  3\n",
      "Number of Weights Increased, Decreased, and Unchanged: \n",
      "10   0   1990\n",
      "Number of Biases Increased, Decreased, and Unchanged: \n",
      "1   0   19\n"
     ]
    }
   ],
   "source": [
    "bias = np.load('softmax_bias.npy')\n",
    "weights = np.load('softmax_weight.npy')\n",
    "print(bias.shape) #(20,)\n",
    "print(weights.shape) # (2000,0) Inputs are corresponding to weights so 100, 20 neurons, 2000x20 connections\n",
    "\n",
    "weights = np.reshape(weights, [100,20])\n",
    "bias = np.reshape(bias, [20, 1])\n",
    "weights = weights.T\n",
    "\n",
    "asample = np.array([0.0, 0.0, 0.0, 0.0, 0.0, 0.0, 0.0, 0.0, 0.0, 0.0, 0.0, 0.0, 0.0, 1.606391429901123, 0.0, 0.0, 0.0, 0.0, 0.0, 0.0, 0.0, 0.0, 0.0, 0.0, 0.0, 0.0, 0.0, 0.0, 0.9543248414993286, 0.0, 0.0, 0.0, 0.0, 0.0, 0.0, 0.1392189860343933, 0.0, 0.0, 0.0, 0.0, 0.0, 0.0, 0.0, 0.0, 0.0, 0.0, 0.0, 1.836493968963623, 0.0, 0.12610933184623718, 0.0, 0.0, 0.0, 0.0843304991722107, 0.0, 0.0, 0.0, 0.0, 0.0, 0.0, 0.0, 0.4557386338710785, 0.0, 0.0, 0.0, 0.0, 0.0, 0.0, 0.0, 0.0, 0.0, 0.0, 0.0, 0.0, 0.0, 0.0, 0.3026450276374817, 0.0, 0.0, 0.0, 0.0, 0.0, 0.0, 0.6092420816421509, 0.23424609005451202, 0.0, 0.0, 0.0, 0.0, 0.0, 0.0, 0.0, 0.0, 0.0, 0.0, 0.0, 0.0, 0.0, 0.0, 0.0]);\n",
    "print(asample.shape)\n",
    "inputs = np.reshape(asample, [100,1])\n",
    "print(inputs.shape)\n",
    "\n",
    "model = neural_network_layer(np.copy(weights), np.copy(bias))\n",
    "y_pred = model.predict(inputs)\n",
    "print(\"Prediction : \", np.argmax(y_pred) + 1)\n",
    "\n",
    "print(\"Loss: \",model.loss(y_pred, 0))\n",
    "\n",
    "model.gradient_descent(y_pred, inputs, 1)\n",
    "y_pred = model.predict(inputs)\n",
    "print(\"Prediction Post Gradient Descent: \", np.argmax(y_pred))\n",
    "loss = model.loss(y_pred, 1)\n",
    "\n",
    "Weight_diff = model.weight - weights\n",
    "Bias_diff = model.bias - bias\n",
    "\n",
    "diff_w = [0,0,0]#inc = 0, dec = 1, no change = 2\n",
    "diff_b = [0,0,0]\n",
    "\n",
    "def comp(val):\n",
    "    if(val > 0.001):return 0\n",
    "    elif(val < -0.001):return 1\n",
    "    else:return 2\n",
    "    \n",
    "for val in Weight_diff.ravel():\n",
    "    index = comp(val)\n",
    "    diff_w[index] += 1\n",
    "    \n",
    "for val in Bias_diff.ravel():\n",
    "    index = comp(val)\n",
    "    diff_b[index] += 1\n",
    "\n",
    "print(\"Number of Weights Increased, Decreased, and Unchanged: \")\n",
    "print(diff_w[0], \" \", diff_w[1], \" \", diff_w[2])\n",
    "print(\"Number of Biases Increased, Decreased, and Unchanged: \")\n",
    "print(diff_b[0], \" \", diff_b[1], \" \", diff_b[2])"
   ]
  },
  {
   "cell_type": "code",
   "execution_count": 14,
   "metadata": {},
   "outputs": [
    {
     "name": "stdout",
     "output_type": "stream",
     "text": [
      "3.0\n"
     ]
    }
   ],
   "source": [
    "x = 3.0\n",
    "print(np.log(np.exp(x)))"
   ]
  },
  {
   "cell_type": "code",
   "execution_count": 12,
   "metadata": {},
   "outputs": [],
   "source": [
    "def softmax(self, Z):\n",
    "    expZ = np.exp(Z - np.max(Z))\n",
    "    return expZ / expZ.sum(axis=0, keepdims=True)"
   ]
  },
  {
   "cell_type": "code",
   "execution_count": 13,
   "metadata": {},
   "outputs": [],
   "source": [
    "def forward(self, X):\n",
    "    store = {}\n",
    "    A = X.T\n",
    "    for l in range(self.L - 1):\n",
    "        Z = self.parameters[\"W\" + str(l + 1)].dot(A) + self.parameters[\"b\" + str(l + 1)]\n",
    "        A = self.sigmoid(Z)\n",
    "        store[\"A\" + str(l + 1)] = A\n",
    "        store[\"W\" + str(l + 1)] = self.parameters[\"W\" + str(l + 1)]\n",
    "        store[\"Z\" + str(l + 1)] = Z\n",
    " \n",
    "    Z = self.parameters[\"W\" + str(self.L)].dot(A) + self.parameters[\"b\" + str(self.L)]\n",
    "    A = self.softmax(Z) # Replace this line\n",
    "    store[\"A\" + str(self.L)] = A\n",
    "    store[\"W\" + str(self.L)] = self.parameters[\"W\" + str(self.L)]\n",
    "    store[\"Z\" + str(self.L)] = Z\n",
    " \n",
    "    return A, store"
   ]
  },
  {
   "cell_type": "code",
   "execution_count": null,
   "metadata": {},
   "outputs": [],
   "source": []
  }
 ],
 "metadata": {
  "kernelspec": {
   "display_name": "Python 3",
   "language": "python",
   "name": "python3"
  },
  "language_info": {
   "codemirror_mode": {
    "name": "ipython",
    "version": 3
   },
   "file_extension": ".py",
   "mimetype": "text/x-python",
   "name": "python",
   "nbconvert_exporter": "python",
   "pygments_lexer": "ipython3",
   "version": "3.8.5"
  }
 },
 "nbformat": 4,
 "nbformat_minor": 4
}
