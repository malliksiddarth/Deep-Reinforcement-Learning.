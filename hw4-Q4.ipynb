{
 "cells": [
  {
   "cell_type": "code",
   "execution_count": 1,
   "metadata": {},
   "outputs": [],
   "source": [
    "import numpy as np\n",
    "import random "
   ]
  },
  {
   "cell_type": "code",
   "execution_count": 2,
   "metadata": {},
   "outputs": [
    {
     "data": {
      "text/plain": [
       "array([[0., 0., 0., 0., 0.],\n",
       "       [0., 0., 0., 0., 0.],\n",
       "       [0., 0., 0., 0., 0.],\n",
       "       [0., 0., 0., 0., 0.],\n",
       "       [0., 0., 0., 0., 0.]])"
      ]
     },
     "execution_count": 2,
     "metadata": {},
     "output_type": "execute_result"
    }
   ],
   "source": [
    "gd=np.zeros([5,5])\n",
    "gd"
   ]
  },
  {
   "cell_type": "code",
   "execution_count": 3,
   "metadata": {},
   "outputs": [],
   "source": [
    "y = .90\n",
    "for num in range(10):\n",
    "    for i in range(5): \n",
    "        for j in range(5):\n",
    "            \n",
    "            up_gd = gd[i-1][j] if i >0 else 0\n",
    "            d_gd = gd[i+1][j] if i < 4 else 0\n",
    "            l_gd = gd[i][j-1] if j> 0 else 0 \n",
    "            r_gd = gd[i][j+1] if j < 4 else 0 \n",
    "            \n",
    "            all_dirs = [up_gd, d_gd, l_gd, r_gd]\n",
    "            \n",
    "            value=0\n",
    "            if i ==0 and j==3: #position of A\n",
    "                value= 5 + y*gd[2][3]\n",
    "            elif i==0 and j==1: #position of B\n",
    "                value = 10 + y*gd[4][1]\n",
    "            else: \n",
    "                for dirc in all_dirs:\n",
    "                    if dirc !=0:\n",
    "                        value += .25 * (0 + y*dirc)\n",
    "                    else:\n",
    "                        value +=.25 * (-1 + y*gd[i][j])\n",
    "            gd[i][j] = value"
   ]
  },
  {
   "cell_type": "code",
   "execution_count": 4,
   "metadata": {},
   "outputs": [
    {
     "data": {
      "text/plain": [
       "array([[ 3.3,  8.8,  4.4,  5.3,  1.5],\n",
       "       [ 1.5,  3. ,  2.2,  1.9,  0.5],\n",
       "       [ 0. ,  0.7,  0.7,  0.4, -0.4],\n",
       "       [-1. , -0.4, -0.3, -0.6, -1.2],\n",
       "       [-1.9, -1.3, -1.2, -1.4, -1.9]])"
      ]
     },
     "execution_count": 4,
     "metadata": {},
     "output_type": "execute_result"
    }
   ],
   "source": [
    "np.round(gd, 1)"
   ]
  },
  {
   "cell_type": "code",
   "execution_count": null,
   "metadata": {},
   "outputs": [],
   "source": []
  }
 ],
 "metadata": {
  "kernelspec": {
   "display_name": "Python 3",
   "language": "python",
   "name": "python3"
  },
  "language_info": {
   "codemirror_mode": {
    "name": "ipython",
    "version": 3
   },
   "file_extension": ".py",
   "mimetype": "text/x-python",
   "name": "python",
   "nbconvert_exporter": "python",
   "pygments_lexer": "ipython3",
   "version": "3.8.5"
  }
 },
 "nbformat": 4,
 "nbformat_minor": 4
}
