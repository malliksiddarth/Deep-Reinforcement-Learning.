{
 "cells": [
  {
   "cell_type": "code",
   "execution_count": 2,
   "metadata": {},
   "outputs": [],
   "source": [
    "import tensorflow as tf\n",
    "import matplotlib.pyplot as pl\n",
    "import numpy  \n",
    "from tensorflow import keras\n",
    "from tensorflow.keras import Sequential\n",
    "from math import sin, pi\n",
    "from keras.layers import Activation, Dense "
   ]
  },
  {
   "cell_type": "code",
   "execution_count": 3,
   "metadata": {},
   "outputs": [
    {
     "name": "stdout",
     "output_type": "stream",
     "text": [
      "[1]\n",
      "[0.7071067811865475]\n"
     ]
    }
   ],
   "source": [
    "trainx=[1]\n",
    "trainy=[numpy.sin(pi/4)*trainx[0]]\n",
    "\n",
    "testx=[1]\n",
    "testy=[numpy.sin(pi/4)*testx[0]]\n",
    "input_shape= (1,1)\n",
    "print(trainx)\n",
    "print(trainy)"
   ]
  },
  {
   "cell_type": "code",
   "execution_count": 4,
   "metadata": {},
   "outputs": [
    {
     "name": "stdout",
     "output_type": "stream",
     "text": [
      "Model: \"sequential\"\n",
      "_________________________________________________________________\n",
      " Layer (type)                Output Shape              Param #   \n",
      "=================================================================\n",
      " dense (Dense)               (None, 1, 1)              2         \n",
      "                                                                 \n",
      " dense_1 (Dense)             (None, 1, 12)             24        \n",
      "                                                                 \n",
      " dense_2 (Dense)             (None, 1, 1)              13        \n",
      "                                                                 \n",
      "=================================================================\n",
      "Total params: 39\n",
      "Trainable params: 39\n",
      "Non-trainable params: 0\n",
      "_________________________________________________________________\n"
     ]
    }
   ],
   "source": [
    "model=tf.keras.models.Sequential()\n",
    "model.add(tf.keras.layers.Dense(1,input_shape=input_shape))\n",
    "model.add(tf.keras.layers.Dense(12, activation='relu'))\n",
    "model.add(tf.keras.layers.Dense(1, activation='linear'))\n",
    "model.compile(optimizer='adam', loss='mean_absolute_error', metrics=['mae'])\n",
    "model.summary()"
   ]
  },
  {
   "cell_type": "code",
   "execution_count": 9,
   "metadata": {},
   "outputs": [
    {
     "name": "stdout",
     "output_type": "stream",
     "text": [
      "Weights of each layer\n",
      "layer  1 \n",
      " weights & Bias: [array([[0.22769451]], dtype=float32), array([0.], dtype=float32)]\n",
      "layer  2 \n",
      " weights & Bias: [array([[-0.18110812,  0.5073012 , -0.07961142,  0.14613736,  0.15318727,\n",
      "        -0.40302366, -0.67434764, -0.11273456, -0.60786283,  0.3816427 ,\n",
      "         0.1054284 ,  0.6755743 ]], dtype=float32), array([0., 0., 0., 0., 0., 0., 0., 0., 0., 0., 0., 0.], dtype=float32)]\n",
      "layer  3 \n",
      " weights & Bias: [array([[ 0.6383066 ],\n",
      "       [ 0.15037966],\n",
      "       [ 0.5929892 ],\n",
      "       [-0.60709524],\n",
      "       [ 0.43496215],\n",
      "       [-0.04252726],\n",
      "       [-0.25410813],\n",
      "       [-0.40893215],\n",
      "       [ 0.46000552],\n",
      "       [ 0.35904443],\n",
      "       [ 0.37777448],\n",
      "       [-0.2610976 ]], dtype=float32), array([0.], dtype=float32)]\n",
      "Number of layers(l): 3\n"
     ]
    }
   ],
   "source": [
    "print(\"Weights of each layer\")\n",
    "layer_number=1\n",
    "for layer in model.layers: \n",
    "    print(\"layer \",layer_number,\"\\n weights & Bias:\",layer.get_weights())\n",
    "    layer_number+=1\n",
    "    \n",
    "print(\"Total Number of layers(l):\",len(model.layers))"
   ]
  },
  {
   "cell_type": "code",
   "execution_count": null,
   "metadata": {},
   "outputs": [],
   "source": []
  }
 ],
 "metadata": {
  "kernelspec": {
   "display_name": "Python 3",
   "language": "python",
   "name": "python3"
  },
  "language_info": {
   "codemirror_mode": {
    "name": "ipython",
    "version": 3
   },
   "file_extension": ".py",
   "mimetype": "text/x-python",
   "name": "python",
   "nbconvert_exporter": "python",
   "pygments_lexer": "ipython3",
   "version": "3.8.5"
  }
 },
 "nbformat": 4,
 "nbformat_minor": 4
}
